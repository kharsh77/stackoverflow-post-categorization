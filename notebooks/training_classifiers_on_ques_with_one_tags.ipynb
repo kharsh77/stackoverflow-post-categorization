{
 "cells": [
  {
   "cell_type": "code",
   "execution_count": 19,
   "metadata": {
    "collapsed": true
   },
   "outputs": [],
   "source": [
    "import numpy as np\n",
    "import pandas as pd\n",
    "import matplotlib.pyplot as plt\n"
   ]
  },
  {
   "cell_type": "code",
   "execution_count": 2,
   "metadata": {
    "collapsed": false
   },
   "outputs": [],
   "source": [
    "ques_set = pd.read_csv('../data/processed/ques_with_one_tag_labelled.csv')"
   ]
  },
  {
   "cell_type": "code",
   "execution_count": 3,
   "metadata": {
    "collapsed": false
   },
   "outputs": [
    {
     "data": {
      "text/plain": [
       "(22609, 7)"
      ]
     },
     "execution_count": 3,
     "metadata": {},
     "output_type": "execute_result"
    }
   ],
   "source": [
    "ques_set.shape"
   ]
  },
  {
   "cell_type": "code",
   "execution_count": 4,
   "metadata": {
    "collapsed": false
   },
   "outputs": [
    {
     "name": "stdout",
     "output_type": "stream",
     "text": [
      "(18087, 7)\n",
      "(4522, 7)\n",
      "Total rows of Category 'f1': 440\n",
      "Total rows of Category 'f2': 1117\n",
      "Total rows of Category 'f3': 4599\n",
      "Total rows of Category 'f4': 753\n",
      "Total rows of Category 'f5': 1506\n",
      "Total rows of Category 'f6': 9564\n",
      "Total rows of Category 'f7': 108\n",
      "+=========+\n",
      "Total rows of Category 'f1': 111\n",
      "Total rows of Category 'f2': 279\n",
      "Total rows of Category 'f3': 1120\n",
      "Total rows of Category 'f4': 191\n",
      "Total rows of Category 'f5': 361\n",
      "Total rows of Category 'f6': 2438\n",
      "Total rows of Category 'f7': 22\n"
     ]
    }
   ],
   "source": [
    "# Read-processed-tags-data-(in-two-formats)\n",
    "\n",
    "# Gets a random 80% of the entire set\n",
    "X_train = ques_set.sample(frac=0.8, random_state=10)\n",
    "\n",
    "# Gets the left out portion of the dataset\n",
    "X_test = ques_set.loc[~ques_set.index.isin(X_train.index)]\n",
    "\n",
    "# alternatively\n",
    "# from sklearn.model_selection import train_test_split\n",
    "\n",
    "def find_occurance(df):\n",
    "    for i in range(1,8):\n",
    "        category= 'f'+str(i)\n",
    "        row,col= df[df['Category'].apply(lambda x: x == category)].shape\n",
    "        print \"Total rows of Category 'f{i}': {row}\".format(i=i,row=row)\n",
    "print X_train.shape\n",
    "print X_test.shape\n",
    "find_occurance(X_train)\n",
    "print \"+=========+\"\n",
    "find_occurance(X_test)"
   ]
  },
  {
   "cell_type": "markdown",
   "metadata": {},
   "source": [
    "## Creating features (Title) and labels (Category)"
   ]
  },
  {
   "cell_type": "code",
   "execution_count": 5,
   "metadata": {
    "collapsed": true
   },
   "outputs": [],
   "source": [
    "train_features = np.array(X_train['Title']) # (X_train['Body'])\n",
    "train_labels = np.array(X_train['Category'].apply(lambda x: int(x[1])))\n",
    "\n",
    "from sklearn.feature_extraction.text import CountVectorizer\n",
    "count_vect = CountVectorizer(stop_words=\"english\")\n",
    "X_train_counts = count_vect.fit_transform(train_features.astype('U'))"
   ]
  },
  {
   "cell_type": "code",
   "execution_count": 6,
   "metadata": {
    "collapsed": false
   },
   "outputs": [
    {
     "name": "stdout",
     "output_type": "stream",
     "text": [
      "6651\n",
      "2712\n",
      "6651\n"
     ]
    }
   ],
   "source": [
    "print len(count_vect.get_feature_names())\n",
    "# data= count_vect.vocabulary_\n",
    "# pd.Data Frame.from_dict([data])\n",
    "print count_vect.vocabulary_.get(u'html')\n",
    "print len(count_vect.vocabulary_)"
   ]
  },
  {
   "cell_type": "code",
   "execution_count": 7,
   "metadata": {
    "collapsed": false
   },
   "outputs": [
    {
     "data": {
      "text/plain": [
       "{'norm': u'l2', 'smooth_idf': True, 'sublinear_tf': False, 'use_idf': False}"
      ]
     },
     "execution_count": 7,
     "metadata": {},
     "output_type": "execute_result"
    }
   ],
   "source": [
    "# Tfidf transformation on countervectorized training data\n",
    "from sklearn.feature_extraction.text import TfidfTransformer\n",
    "tf_transformer = TfidfTransformer(use_idf=False).fit(X_train_counts)\n",
    "X_train_tf = tf_transformer.transform(X_train_counts)\n",
    "tf_transformer.get_params(deep=True)"
   ]
  },
  {
   "cell_type": "markdown",
   "metadata": {},
   "source": [
    "## Training a classifier (Naive Bayes)"
   ]
  },
  {
   "cell_type": "code",
   "execution_count": 8,
   "metadata": {
    "collapsed": true
   },
   "outputs": [],
   "source": [
    "# Training the classifier (Naive Bayes)\n",
    "\n",
    "from sklearn.naive_bayes import MultinomialNB\n",
    "clf_naive = MultinomialNB().fit(X_train_tf, train_labels)"
   ]
  },
  {
   "cell_type": "code",
   "execution_count": 9,
   "metadata": {
    "collapsed": false
   },
   "outputs": [
    {
     "data": {
      "text/plain": [
       "0.86200796107916855"
      ]
     },
     "execution_count": 9,
     "metadata": {},
     "output_type": "execute_result"
    }
   ],
   "source": [
    "# Prediction on test data\n",
    "test_features= np.array(X_test['Title'].apply(lambda x: str(x)))\n",
    "test_labels= np.array(X_test['Category'].apply(lambda x: int(x[1])))\n",
    "\n",
    "# Tlidf Transformation of test data\n",
    "X_new_counts = count_vect.transform(test_features)\n",
    "X_new_tfidf = tf_transformer.transform(X_new_counts)\n",
    "\n",
    "predicted_naive = clf_naive.predict(X_new_tfidf)\n",
    "np.mean(predicted_naive == test_labels)"
   ]
  },
  {
   "cell_type": "markdown",
   "metadata": {},
   "source": [
    "## Training classifier (SVM)"
   ]
  },
  {
   "cell_type": "code",
   "execution_count": 24,
   "metadata": {
    "collapsed": false
   },
   "outputs": [
    {
     "data": {
      "text/plain": [
       "0.92525431225121624"
      ]
     },
     "execution_count": 24,
     "metadata": {},
     "output_type": "execute_result"
    }
   ],
   "source": [
    "from sklearn.svm import SVC\n",
    "clf_svc = SVC(kernel=\"rbf\", C=10000.0)  #SVC(kernel=\"linear\")\n",
    "clf_svc.fit(X_train_tf, train_labels)\n",
    "predicted_svc= clf_svc.predict(X_new_tfidf)\n",
    "np.mean(predicted_svc == test_labels)\n",
    "# C= 1000, rbf, accuracy=0.90070765148164533\n",
    "# C=100000000.0, rbf, accuracy= 0.91110128261831047\n",
    "# C=10000.0, rbf, accuracy= 0.93078283945157014\n",
    "# C=100000.0, rbf, accuracy = 0.92105263157894735\n",
    "# predicted_svc"
   ]
  },
  {
   "cell_type": "code",
   "execution_count": null,
   "metadata": {
    "collapsed": true
   },
   "outputs": [],
   "source": []
  },
  {
   "cell_type": "code",
   "execution_count": 26,
   "metadata": {
    "collapsed": false
   },
   "outputs": [
    {
     "name": "stdout",
     "output_type": "stream",
     "text": [
      "(4522, 8) (4522, 7)\n",
      "Total rows of Category 'f1': 0\n",
      "Total rows of Category 'f2': 0\n",
      "Total rows of Category 'f3': 211\n",
      "Total rows of Category 'f4': 0\n",
      "Total rows of Category 'f5': 0\n",
      "Total rows of Category 'f6': 0\n",
      "Total rows of Category 'f7': 0\n",
      "Total rows of Category 'f1': 111\n",
      "Total rows of Category 'f2': 279\n",
      "Total rows of Category 'f3': 1120\n",
      "Total rows of Category 'f4': 191\n",
      "Total rows of Category 'f5': 361\n",
      "Total rows of Category 'f6': 2438\n",
      "Total rows of Category 'f7': 22\n"
     ]
    }
   ],
   "source": [
    "X_test1= X_test.copy()\n",
    "def f(input):\n",
    "    return 'f{x}'.format(x=(str(input)))\n",
    "series=pd.Series(predicted_svc)\n",
    "X_test1['Predicted Category']= series.apply(f)\n",
    "print X_test1.shape, X_test.shape\n",
    "find_occurance(X_test1[X_test1['Category']==X_test1['Predicted Category']])\n",
    "find_occurance(X_test)\n",
    "\n"
   ]
  },
  {
   "cell_type": "code",
   "execution_count": 17,
   "metadata": {
    "collapsed": false
   },
   "outputs": [
    {
     "name": "stdout",
     "output_type": "stream",
     "text": [
      "0.981533698236\n",
      "(18087, 8) (18087, 7)\n",
      "Total rows of Category 'f1': 8\n",
      "Total rows of Category 'f2': 68\n",
      "Total rows of Category 'f3': 1239\n",
      "Total rows of Category 'f4': 28\n",
      "Total rows of Category 'f5': 129\n",
      "Total rows of Category 'f6': 3220\n",
      "Total rows of Category 'f7': 0\n",
      "Total rows of Category 'f1': 440\n",
      "Total rows of Category 'f2': 1117\n",
      "Total rows of Category 'f3': 4599\n",
      "Total rows of Category 'f4': 753\n",
      "Total rows of Category 'f5': 1506\n",
      "Total rows of Category 'f6': 9564\n",
      "Total rows of Category 'f7': 108\n"
     ]
    }
   ],
   "source": [
    "# Checking how accuratly training data were matched correctly \n",
    "\n",
    "predicted_svc1= clf_svc.predict(X_train_tf)\n",
    "print np.mean(predicted_svc1 == train_labels)\n",
    "\n",
    "X_train1= X_train.copy()\n",
    "series1=pd.Series(predicted_svc1)\n",
    "X_train1['Predicted Category']= series1.apply(f)\n",
    "print X_train1.shape, X_train.shape\n",
    "find_occurance(X_train1[X_train1['Category']==X_train1['Predicted Category']])\n",
    "find_occurance(X_train)"
   ]
  },
  {
   "cell_type": "code",
   "execution_count": 22,
   "metadata": {
    "collapsed": false
   },
   "outputs": [
    {
     "data": {
      "image/png": "[encoded data removed]",
      "text/plain": [
       "<matplotlib.figure.Figure at 0x7fdc4b92c1d0>"
      ]
     },
     "metadata": {},
     "output_type": "display_data"
    },
    {
     "data": {
      "image/png": "[encoded data removed]",
      "text/plain": [
       "<matplotlib.figure.Figure at 0x7fdc4c2e2fd0>"
      ]
     },
     "metadata": {},
     "output_type": "display_data"
    }
   ],
   "source": [
    "# Ploting bar chart on training and testing accuracy\n",
    "training_accuracy_dict={\n",
    "    'predicted':{\n",
    "        'f1': 411,\n",
    "         'f2': 1069,\n",
    "         'f3': 4464,\n",
    "         'f4': 701,\n",
    "         'f5': 1462,\n",
    "         'f6': 9534,\n",
    "         'f7': 104 \n",
    "    },\n",
    "    'actual':{\n",
    "         'f1': 451,\n",
    "         'f2': 1104,\n",
    "         'f3': 4561,\n",
    "         'f4': 740,\n",
    "         'f5': 1481,\n",
    "         'f6': 9643,\n",
    "         'f7': 106\n",
    "    }\n",
    "}\n",
    "\n",
    "testing_accuracy_dict= {\n",
    "    'predicted_x':{\n",
    "        'f1': 68,\n",
    "        'f2': 246,\n",
    "        'f3': 1062,\n",
    "        'f4': 160,\n",
    "        'f5': 365,\n",
    "        'f6': 2273,\n",
    "        'f7': 24\n",
    "    },\n",
    "    'actual_x':{\n",
    "        'f1': 100,\n",
    "        'f2': 292,\n",
    "        'f3': 1157,\n",
    "        'f4': 204,\n",
    "        'f5': 386,\n",
    "        'f6': 2359,\n",
    "        'f7': 24\n",
    "    }\n",
    "}\n",
    "training_accuracy_df= pd.DataFrame.from_dict(training_accuracy_dict)\n",
    "testing_accuracy_df= pd.DataFrame.from_dict(testing_accuracy_dict)\n",
    "accuracy_df= pd.concat([training_accuracy_df,testing_accuracy_df], axis=1)\n",
    "accuracy_df['accuracy_train']=accuracy_df['predicted']/accuracy_df['actual']*100\n",
    "accuracy_df['accuracy_test']=accuracy_df['predicted_x']/accuracy_df['actual_x']*100\n",
    "\n",
    "accuracy_df.plot(x=[['html','css','js','css-build-tool','task-manager','frameworks','testing']],\n",
    "                 y=['accuracy_train', 'accuracy_test'], kind='bar', figsize=(14,6))\n",
    "\n",
    "plt.show()\n"
   ]
  },
  {
   "cell_type": "markdown",
   "metadata": {},
   "source": [
    "# Categorizing entire question dataset using trained model by SVM"
   ]
  },
  {
   "cell_type": "code",
   "execution_count": 29,
   "metadata": {
    "collapsed": true
   },
   "outputs": [],
   "source": [
    "ques_set_all_raw= pd.read_csv('../../datasets/stackoverflow/tag-wise-only_question/scripts/processed_data/no_duplicate_ques.csv')"
   ]
  },
  {
   "cell_type": "code",
   "execution_count": 37,
   "metadata": {
    "collapsed": true
   },
   "outputs": [
    {
     "data": {
      "text/html": [
       "<div>\n",
       "<table border=\"1\" class=\"dataframe\">\n",
       "  <thead>\n",
       "    <tr style=\"text-align: right;\">\n",
       "      <th></th>\n",
       "      <th>Post Link</th>\n",
       "      <th>Score</th>\n",
       "      <th>ViewCount</th>\n",
       "      <th>Tags</th>\n",
       "      <th>Title</th>\n",
       "      <th>Body</th>\n",
       "      <th>CreationDate</th>\n",
       "      <th>AnswerCount</th>\n",
       "      <th>AcceptedAnswerId</th>\n",
       "      <th>ClosedDate</th>\n",
       "      <th>PostTypeId</th>\n",
       "    </tr>\n",
       "  </thead>\n",
       "  <tbody>\n",
       "  </tbody>\n",
       "</table>\n",
       "</div>"
      ],
      "text/plain": [
       "Empty DataFrame\n",
       "Columns: [Post Link, Score, ViewCount, Tags, Title, Body, CreationDate, AnswerCount, AcceptedAnswerId, ClosedDate, PostTypeId]\n",
       "Index: []"
      ]
     },
     "execution_count": 37,
     "metadata": {},
     "output_type": "execute_result"
    }
   ],
   "source": [
    "ques_set_all_raw[ques_set_all_raw['PostTypeId'].apply(lambda x: x!=1)]"
   ]
  },
  {
   "cell_type": "code",
   "execution_count": 36,
   "metadata": {
    "collapsed": false
   },
   "outputs": [],
   "source": [
    "# Removing a row which contains PostTypeId=2\n",
    "# ques_set_all[ques_set_all['PostTypeId'].apply(lambda x: x!=1)]\n",
    "ques_set_all_raw= ques_set_all_raw.drop(ques_set_all_raw.index[[380]])\n",
    "\n",
    "\n",
    "col_req= ['Post Link', 'Tags', 'Title', 'Body', 'Score', 'ViewCount']\n",
    "ques_set_all_temp = ques_set_all_raw[col_req]"
   ]
  },
  {
   "cell_type": "code",
   "execution_count": 38,
   "metadata": {
    "collapsed": false
   },
   "outputs": [
    {
     "data": {
      "text/plain": [
       "(258237, 6)"
      ]
     },
     "execution_count": 38,
     "metadata": {},
     "output_type": "execute_result"
    }
   ],
   "source": [
    "ques_set_all_temp.shape"
   ]
  },
  {
   "cell_type": "code",
   "execution_count": 39,
   "metadata": {
    "collapsed": false
   },
   "outputs": [
    {
     "data": {
      "text/plain": [
       "Post Link    0\n",
       "Tags         0\n",
       "Title        0\n",
       "Body         0\n",
       "Score        0\n",
       "ViewCount    0\n",
       "dtype: int64"
      ]
     },
     "execution_count": 39,
     "metadata": {},
     "output_type": "execute_result"
    }
   ],
   "source": [
    "# Find NaN value in a dataframe\n",
    "pd.isnull(ques_set_all_temp).sum()\n",
    "# RESULT : NO NAN VALUES"
   ]
  },
  {
   "cell_type": "code",
   "execution_count": 40,
   "metadata": {
    "collapsed": true
   },
   "outputs": [],
   "source": [
    "# ======preserving==========\n",
    "ques_set_all_temp.to_csv('../data/processed/full_ques_set_unlabelled_new.csv', index=False)"
   ]
  },
  {
   "cell_type": "markdown",
   "metadata": {},
   "source": [
    "# Read Full Ques Set For classification"
   ]
  },
  {
   "cell_type": "code",
   "execution_count": 41,
   "metadata": {
    "collapsed": true
   },
   "outputs": [],
   "source": [
    "full_ques_set= pd.read_csv('../data/processed/full_ques_set_unlabelled_new.csv')"
   ]
  },
  {
   "cell_type": "code",
   "execution_count": 42,
   "metadata": {
    "collapsed": true
   },
   "outputs": [
    {
     "data": {
      "text/html": [
       "<div>\n",
       "<table border=\"1\" class=\"dataframe\">\n",
       "  <thead>\n",
       "    <tr style=\"text-align: right;\">\n",
       "      <th></th>\n",
       "      <th>Post Link</th>\n",
       "      <th>Tags</th>\n",
       "      <th>Title</th>\n",
       "      <th>Body</th>\n",
       "      <th>Score</th>\n",
       "      <th>ViewCount</th>\n",
       "    </tr>\n",
       "  </thead>\n",
       "  <tbody>\n",
       "    <tr>\n",
       "      <th>0</th>\n",
       "      <td>111102</td>\n",
       "      <td>['javascript', 'scope', 'closures']</td>\n",
       "      <td>How do JavaScript closures work?</td>\n",
       "      <td>&lt;p&gt;How would you explain JavaScript closures t...</td>\n",
       "      <td>7087</td>\n",
       "      <td>960479.0</td>\n",
       "    </tr>\n",
       "    <tr>\n",
       "      <th>1</th>\n",
       "      <td>503093</td>\n",
       "      <td>['javascript', 'jquery', 'redirect']</td>\n",
       "      <td>How do I redirect to another page in JavaScrip...</td>\n",
       "      <td>&lt;p&gt;How can I redirect the user from one page t...</td>\n",
       "      <td>6075</td>\n",
       "      <td>3529104.0</td>\n",
       "    </tr>\n",
       "    <tr>\n",
       "      <th>2</th>\n",
       "      <td>1789945</td>\n",
       "      <td>['javascript', 'string', 'substring', 'string-...</td>\n",
       "      <td>How to check if one string contains another su...</td>\n",
       "      <td>&lt;p&gt;Usually, I would expect a &lt;code&gt;String.cont...</td>\n",
       "      <td>5685</td>\n",
       "      <td>3558952.0</td>\n",
       "    </tr>\n",
       "    <tr>\n",
       "      <th>3</th>\n",
       "      <td>1335851</td>\n",
       "      <td>['javascript', 'syntax', 'jslint', 'use-strict']</td>\n",
       "      <td>What does \"use strict\" do in JavaScript, and w...</td>\n",
       "      <td>&lt;p&gt;Recently, I ran some of my JavaScript code ...</td>\n",
       "      <td>5334</td>\n",
       "      <td>739520.0</td>\n",
       "    </tr>\n",
       "    <tr>\n",
       "      <th>4</th>\n",
       "      <td>178325</td>\n",
       "      <td>['javascript', 'jquery', 'dom', 'visibility']</td>\n",
       "      <td>How do I check if an element is hidden in jQuery?</td>\n",
       "      <td>&lt;p&gt;It is possible to toggle the visibility of ...</td>\n",
       "      <td>5317</td>\n",
       "      <td>1706552.0</td>\n",
       "    </tr>\n",
       "    <tr>\n",
       "      <th>5</th>\n",
       "      <td>336859</td>\n",
       "      <td>['javascript', 'function', 'syntax', 'idioms']</td>\n",
       "      <td>JavaScript function declaration syntax: var fn...</td>\n",
       "      <td>&lt;p&gt;I've recently started maintaining someone e...</td>\n",
       "      <td>4768</td>\n",
       "      <td>714696.0</td>\n",
       "    </tr>\n",
       "    <tr>\n",
       "      <th>6</th>\n",
       "      <td>14994391</td>\n",
       "      <td>['javascript', 'jquery', 'angularjs', 'design']</td>\n",
       "      <td>\"Thinking in AngularJS\" if I have a jQuery bac...</td>\n",
       "      <td>&lt;p&gt;Suppose I'm familiar with developing client...</td>\n",
       "      <td>4535</td>\n",
       "      <td>706186.0</td>\n",
       "    </tr>\n",
       "    <tr>\n",
       "      <th>7</th>\n",
       "      <td>359494</td>\n",
       "      <td>['javascript', 'operators', 'equality', 'equal...</td>\n",
       "      <td>Which equals operator (== vs ===) should be us...</td>\n",
       "      <td>&lt;p&gt;I'm using &lt;a href=\"http://en.wikipedia.org/...</td>\n",
       "      <td>4353</td>\n",
       "      <td>989836.0</td>\n",
       "    </tr>\n",
       "    <tr>\n",
       "      <th>8</th>\n",
       "      <td>5767325</td>\n",
       "      <td>['javascript', 'arrays']</td>\n",
       "      <td>How to remove a particular element from an arr...</td>\n",
       "      <td>&lt;p&gt;I have an array of integers, which I'm usin...</td>\n",
       "      <td>3886</td>\n",
       "      <td>2906474.0</td>\n",
       "    </tr>\n",
       "    <tr>\n",
       "      <th>9</th>\n",
       "      <td>208105</td>\n",
       "      <td>['javascript', 'javascript-objects', 'object-p...</td>\n",
       "      <td>How to remove a property from a JavaScript obj...</td>\n",
       "      <td>&lt;p&gt;Say I create an object as follows: &lt;/p&gt;\\n\\n...</td>\n",
       "      <td>3554</td>\n",
       "      <td>1118601.0</td>\n",
       "    </tr>\n",
       "    <tr>\n",
       "      <th>10</th>\n",
       "      <td>122102</td>\n",
       "      <td>['javascript', 'object', 'clone']</td>\n",
       "      <td>What is the most efficient way to deep clone a...</td>\n",
       "      <td>&lt;p&gt;What is the most efficient way to clone a J...</td>\n",
       "      <td>3466</td>\n",
       "      <td>1179322.0</td>\n",
       "    </tr>\n",
       "    <tr>\n",
       "      <th>11</th>\n",
       "      <td>950087</td>\n",
       "      <td>['javascript', 'file', 'import', 'include']</td>\n",
       "      <td>How do I include a JavaScript file in another ...</td>\n",
       "      <td>&lt;p&gt;Is there something in JavaScript similar to...</td>\n",
       "      <td>3192</td>\n",
       "      <td>1805880.0</td>\n",
       "    </tr>\n",
       "    <tr>\n",
       "      <th>12</th>\n",
       "      <td>901712</td>\n",
       "      <td>['javascript', 'jquery', 'checkbox']</td>\n",
       "      <td>How do I check if a checkbox is checked in jQu...</td>\n",
       "      <td>&lt;p&gt;I need to check the &lt;code&gt;checked&lt;/code&gt; pr...</td>\n",
       "      <td>3113</td>\n",
       "      <td>2849662.0</td>\n",
       "    </tr>\n",
       "    <tr>\n",
       "      <th>13</th>\n",
       "      <td>134845</td>\n",
       "      <td>['javascript', 'html', 'performance', 'optimiz...</td>\n",
       "      <td>Which \"href\" value to use for JavaScript links...</td>\n",
       "      <td>&lt;p&gt;The following are two methods of building a...</td>\n",
       "      <td>3093</td>\n",
       "      <td>1841497.0</td>\n",
       "    </tr>\n",
       "    <tr>\n",
       "      <th>14</th>\n",
       "      <td>426258</td>\n",
       "      <td>['javascript', 'jquery', 'checkbox', 'selected...</td>\n",
       "      <td>Setting \"checked\" for a checkbox with jQuery?</td>\n",
       "      <td>&lt;p&gt;I'd like to do something like this to tick ...</td>\n",
       "      <td>2913</td>\n",
       "      <td>2233755.0</td>\n",
       "    </tr>\n",
       "    <tr>\n",
       "      <th>15</th>\n",
       "      <td>9329446</td>\n",
       "      <td>['javascript', 'arrays', 'loops', 'foreach', '...</td>\n",
       "      <td>For-each over an array in JavaScript?</td>\n",
       "      <td>&lt;p&gt;How can I loop through all the objects in a...</td>\n",
       "      <td>2848</td>\n",
       "      <td>2594827.0</td>\n",
       "    </tr>\n",
       "    <tr>\n",
       "      <th>16</th>\n",
       "      <td>14220321</td>\n",
       "      <td>['javascript', 'jquery', 'ajax', 'asynchronous']</td>\n",
       "      <td>How do I return the response from an asynchron...</td>\n",
       "      <td>&lt;p&gt;I have a function &lt;code&gt;foo&lt;/code&gt; which ma...</td>\n",
       "      <td>2714</td>\n",
       "      <td>740025.0</td>\n",
       "    </tr>\n",
       "    <tr>\n",
       "      <th>17</th>\n",
       "      <td>901115</td>\n",
       "      <td>['javascript', 'url', 'plugins', 'query-string']</td>\n",
       "      <td>How can I get query string values in JavaScript?</td>\n",
       "      <td>&lt;p&gt;Is there a plugin-less way of retrieving &lt;a...</td>\n",
       "      <td>2706</td>\n",
       "      <td>2392845.0</td>\n",
       "    </tr>\n",
       "    <tr>\n",
       "      <th>18</th>\n",
       "      <td>221294</td>\n",
       "      <td>['javascript', 'date', 'datetime', 'timestamp'...</td>\n",
       "      <td>How do you get a timestamp in JavaScript?</td>\n",
       "      <td>&lt;p&gt;How can I get a timestamp in JavaScript?&lt;/p...</td>\n",
       "      <td>2666</td>\n",
       "      <td>1607221.0</td>\n",
       "    </tr>\n",
       "    <tr>\n",
       "      <th>19</th>\n",
       "      <td>2669690</td>\n",
       "      <td>['javascript', 'ajax', 'json']</td>\n",
       "      <td>Why does Google prepend while(1); to their JSO...</td>\n",
       "      <td>&lt;p&gt;Why does Google prepend &lt;code&gt;while(1);&lt;/co...</td>\n",
       "      <td>2479</td>\n",
       "      <td>236097.0</td>\n",
       "    </tr>\n",
       "    <tr>\n",
       "      <th>20</th>\n",
       "      <td>237104</td>\n",
       "      <td>['javascript', 'arrays', 'browser']</td>\n",
       "      <td>How do I check if an array includes an object ...</td>\n",
       "      <td>&lt;p&gt;What is the most concise and efficient way ...</td>\n",
       "      <td>2453</td>\n",
       "      <td>1653561.0</td>\n",
       "    </tr>\n",
       "    <tr>\n",
       "      <th>21</th>\n",
       "      <td>105034</td>\n",
       "      <td>['javascript', 'guid', 'uuid']</td>\n",
       "      <td>Create GUID / UUID in JavaScript?</td>\n",
       "      <td>&lt;p&gt;I'm trying to create globally-unique identi...</td>\n",
       "      <td>2427</td>\n",
       "      <td>847290.0</td>\n",
       "    </tr>\n",
       "    <tr>\n",
       "      <th>22</th>\n",
       "      <td>1986896</td>\n",
       "      <td>['javascript', 'performance', 'function', 'dyn...</td>\n",
       "      <td>What is the difference between call and apply?</td>\n",
       "      <td>&lt;p&gt;What is the difference between using call a...</td>\n",
       "      <td>2283</td>\n",
       "      <td>517080.0</td>\n",
       "    </tr>\n",
       "    <tr>\n",
       "      <th>23</th>\n",
       "      <td>46155</td>\n",
       "      <td>['javascript', 'regex', 'validation', 'email',...</td>\n",
       "      <td>Validate email address in JavaScript?</td>\n",
       "      <td>&lt;p&gt;How can an email address be validated in Ja...</td>\n",
       "      <td>2266</td>\n",
       "      <td>1494874.0</td>\n",
       "    </tr>\n",
       "    <tr>\n",
       "      <th>24</th>\n",
       "      <td>1357118</td>\n",
       "      <td>['javascript', 'jquery', 'javascript-events', ...</td>\n",
       "      <td>event.preventDefault() vs. return false</td>\n",
       "      <td>&lt;p&gt;When I want to prevent other event handlers...</td>\n",
       "      <td>2210</td>\n",
       "      <td>610782.0</td>\n",
       "    </tr>\n",
       "    <tr>\n",
       "      <th>25</th>\n",
       "      <td>5062614</td>\n",
       "      <td>['javascript', 'design', 'web-applications', '...</td>\n",
       "      <td>How to decide when to use Node.js?</td>\n",
       "      <td>&lt;p&gt;I am new to this kind of stuff, but lately ...</td>\n",
       "      <td>2203</td>\n",
       "      <td>338859.0</td>\n",
       "    </tr>\n",
       "    <tr>\n",
       "      <th>26</th>\n",
       "      <td>1026069</td>\n",
       "      <td>['javascript', 'string', 'capitalize', 'letter']</td>\n",
       "      <td>How do I make the first letter of a string upp...</td>\n",
       "      <td>&lt;p&gt;How do I make the first letter of a string ...</td>\n",
       "      <td>2189</td>\n",
       "      <td>974858.0</td>\n",
       "    </tr>\n",
       "    <tr>\n",
       "      <th>27</th>\n",
       "      <td>166221</td>\n",
       "      <td>['javascript', 'jquery', 'ajax', 'asynchronous...</td>\n",
       "      <td>How can I upload files asynchronously?</td>\n",
       "      <td>&lt;p&gt;I would like to upload a file asynchronousl...</td>\n",
       "      <td>2162</td>\n",
       "      <td>1025521.0</td>\n",
       "    </tr>\n",
       "    <tr>\n",
       "      <th>28</th>\n",
       "      <td>1144783</td>\n",
       "      <td>['javascript', 'replace']</td>\n",
       "      <td>How to replace all occurrences of a string in ...</td>\n",
       "      <td>&lt;p&gt;I have this string:&lt;/p&gt;\\n\\n&lt;pre&gt;&lt;code&gt;\"Test...</td>\n",
       "      <td>2124</td>\n",
       "      <td>1566262.0</td>\n",
       "    </tr>\n",
       "    <tr>\n",
       "      <th>29</th>\n",
       "      <td>351409</td>\n",
       "      <td>['javascript', 'arrays', 'append']</td>\n",
       "      <td>How to append something to an array?</td>\n",
       "      <td>&lt;p&gt;How do I append to an array in JavaScript?&lt;...</td>\n",
       "      <td>2113</td>\n",
       "      <td>1457273.0</td>\n",
       "    </tr>\n",
       "    <tr>\n",
       "      <th>...</th>\n",
       "      <td>...</td>\n",
       "      <td>...</td>\n",
       "      <td>...</td>\n",
       "      <td>...</td>\n",
       "      <td>...</td>\n",
       "      <td>...</td>\n",
       "    </tr>\n",
       "    <tr>\n",
       "      <th>258207</th>\n",
       "      <td>37194633</td>\n",
       "      <td>['android', 'unit-testing', 'testing', 'karma-...</td>\n",
       "      <td>tns test android fails for the first time, the...</td>\n",
       "      <td>&lt;p&gt;&lt;code&gt;tns test android&lt;/code&gt; fails with &lt;/...</td>\n",
       "      <td>0</td>\n",
       "      <td>41.0</td>\n",
       "    </tr>\n",
       "    <tr>\n",
       "      <th>258208</th>\n",
       "      <td>31573724</td>\n",
       "      <td>['javascript', 'angularjs', 'jasmine', 'karma-...</td>\n",
       "      <td>How to test function within Angular click-handler</td>\n",
       "      <td>&lt;p&gt;I'm currently unit-testing my Angular contr...</td>\n",
       "      <td>0</td>\n",
       "      <td>53.0</td>\n",
       "    </tr>\n",
       "    <tr>\n",
       "      <th>258209</th>\n",
       "      <td>32174522</td>\n",
       "      <td>['angularjs', 'karma-jasmine']</td>\n",
       "      <td>How to create filter for each tab?</td>\n",
       "      <td>&lt;p&gt;I am trying to define a filter on a tabcont...</td>\n",
       "      <td>0</td>\n",
       "      <td>36.0</td>\n",
       "    </tr>\n",
       "    <tr>\n",
       "      <th>258210</th>\n",
       "      <td>29691744</td>\n",
       "      <td>['node.js', 'asynchronous', 'mocha']</td>\n",
       "      <td>Mocha asyn.waterflow not working</td>\n",
       "      <td>&lt;p&gt;I am using mocha and chai for testing nodej...</td>\n",
       "      <td>0</td>\n",
       "      <td>67.0</td>\n",
       "    </tr>\n",
       "    <tr>\n",
       "      <th>258211</th>\n",
       "      <td>16446284</td>\n",
       "      <td>['javascript', 'testing', 'angularjs', 'mockin...</td>\n",
       "      <td>Karma AngularJs Cancel/mock Timeout E2E</td>\n",
       "      <td>&lt;p&gt;In angular I have a service object which an...</td>\n",
       "      <td>0</td>\n",
       "      <td>386.0</td>\n",
       "    </tr>\n",
       "    <tr>\n",
       "      <th>258212</th>\n",
       "      <td>32114446</td>\n",
       "      <td>['javascript', 'jasmine', 'karma-jasmine']</td>\n",
       "      <td>jasmine test javascript inner function</td>\n",
       "      <td>&lt;p&gt;Here is my javascript code &lt;/p&gt;\\n\\n&lt;pre&gt;&lt;co...</td>\n",
       "      <td>0</td>\n",
       "      <td>309.0</td>\n",
       "    </tr>\n",
       "    <tr>\n",
       "      <th>258213</th>\n",
       "      <td>34423589</td>\n",
       "      <td>['javascript', 'karma-runner', 'urlencode']</td>\n",
       "      <td>url-decoding a complex string gives \"URI malfo...</td>\n",
       "      <td>&lt;p&gt;How to decode this string:&lt;/p&gt;\\n\\n&lt;pre&gt;&lt;cod...</td>\n",
       "      <td>0</td>\n",
       "      <td>67.0</td>\n",
       "    </tr>\n",
       "    <tr>\n",
       "      <th>258214</th>\n",
       "      <td>37320095</td>\n",
       "      <td>['jasmine', 'karma-jasmine', 'jasmine-node', '...</td>\n",
       "      <td>No more request expected in jasmine</td>\n",
       "      <td>&lt;p&gt;Could anyone please tell me what I'm doing ...</td>\n",
       "      <td>0</td>\n",
       "      <td>51.0</td>\n",
       "    </tr>\n",
       "    <tr>\n",
       "      <th>258215</th>\n",
       "      <td>32312575</td>\n",
       "      <td>['performance', 'safari', 'teamcity', 'karma-r...</td>\n",
       "      <td>Running karma on Safari painfully slow</td>\n",
       "      <td>&lt;p&gt;We use teamcity to run our client side unit...</td>\n",
       "      <td>0</td>\n",
       "      <td>80.0</td>\n",
       "    </tr>\n",
       "    <tr>\n",
       "      <th>258216</th>\n",
       "      <td>29761293</td>\n",
       "      <td>['angularjs', 'jasmine', 'karma-runner', 'yeom...</td>\n",
       "      <td>Nested Unit test case in a loop is always succ...</td>\n",
       "      <td>&lt;p&gt;I've refactored a test case from repeating ...</td>\n",
       "      <td>0</td>\n",
       "      <td>535.0</td>\n",
       "    </tr>\n",
       "    <tr>\n",
       "      <th>258217</th>\n",
       "      <td>39810587</td>\n",
       "      <td>['unit-testing', 'angular2', 'karma-mocha']</td>\n",
       "      <td>Angular2 unit test component</td>\n",
       "      <td>&lt;p&gt;I'm learning new features and changes in An...</td>\n",
       "      <td>0</td>\n",
       "      <td>94.0</td>\n",
       "    </tr>\n",
       "    <tr>\n",
       "      <th>258218</th>\n",
       "      <td>29270232</td>\n",
       "      <td>['javascript', 'jasmine', 'jshint', 'use-strict']</td>\n",
       "      <td>Do I need to use the function form of 'use str...</td>\n",
       "      <td>&lt;p&gt;I'm building unit tests in jasmine based on...</td>\n",
       "      <td>0</td>\n",
       "      <td>578.0</td>\n",
       "    </tr>\n",
       "    <tr>\n",
       "      <th>258219</th>\n",
       "      <td>27418478</td>\n",
       "      <td>['node.js', 'jasmine', 'jasmine-node']</td>\n",
       "      <td>Jasmine-node not working properly</td>\n",
       "      <td>&lt;p&gt;I am new to automated testing using jasmine...</td>\n",
       "      <td>0</td>\n",
       "      <td>270.0</td>\n",
       "    </tr>\n",
       "    <tr>\n",
       "      <th>258220</th>\n",
       "      <td>21494966</td>\n",
       "      <td>['node.js', 'mongodb', 'express', 'mongoose', ...</td>\n",
       "      <td>Mongoose error being returned as undefined?</td>\n",
       "      <td>&lt;p&gt;I am trying to test my db connection with j...</td>\n",
       "      <td>0</td>\n",
       "      <td>310.0</td>\n",
       "    </tr>\n",
       "    <tr>\n",
       "      <th>258221</th>\n",
       "      <td>37957667</td>\n",
       "      <td>['angularjs', 'jasmine', 'tdd']</td>\n",
       "      <td>jasmine can't access angularjs 1.5 controller ...</td>\n",
       "      <td>&lt;p&gt;I'm trying to access the controller's prope...</td>\n",
       "      <td>0</td>\n",
       "      <td>53.0</td>\n",
       "    </tr>\n",
       "    <tr>\n",
       "      <th>258222</th>\n",
       "      <td>27104260</td>\n",
       "      <td>['unit-testing', 'mocha', 'synchronous']</td>\n",
       "      <td>How to execute mocah unit test cases synchrono...</td>\n",
       "      <td>&lt;p&gt;I want to execute mocha unit test cases as ...</td>\n",
       "      <td>0</td>\n",
       "      <td>179.0</td>\n",
       "    </tr>\n",
       "    <tr>\n",
       "      <th>258223</th>\n",
       "      <td>29129730</td>\n",
       "      <td>['angularjs', 'mocha', 'chai']</td>\n",
       "      <td>mocha chai test cases are not working to resol...</td>\n",
       "      <td>&lt;p&gt;I need to test url path which i am redirect...</td>\n",
       "      <td>0</td>\n",
       "      <td>194.0</td>\n",
       "    </tr>\n",
       "    <tr>\n",
       "      <th>258224</th>\n",
       "      <td>40218606</td>\n",
       "      <td>['node.js', 'filesystems', 'mocha']</td>\n",
       "      <td>nodejs watch mocha before/each</td>\n",
       "      <td>&lt;p&gt;I've started to write my own wrapper around...</td>\n",
       "      <td>0</td>\n",
       "      <td>23.0</td>\n",
       "    </tr>\n",
       "    <tr>\n",
       "      <th>258225</th>\n",
       "      <td>40045248</td>\n",
       "      <td>['angularjs', 'jasmine']</td>\n",
       "      <td>angular testing promise within a promise</td>\n",
       "      <td>&lt;p&gt;I have code that works.  But I have no idea...</td>\n",
       "      <td>0</td>\n",
       "      <td>17.0</td>\n",
       "    </tr>\n",
       "    <tr>\n",
       "      <th>258226</th>\n",
       "      <td>40069710</td>\n",
       "      <td>['angularjs', 'jasmine', 'karma-jasmine']</td>\n",
       "      <td>Angular / Jasmine Testing - How to Stub Both a...</td>\n",
       "      <td>&lt;p&gt;In Jasmine, I can mock a constructor functi...</td>\n",
       "      <td>0</td>\n",
       "      <td>17.0</td>\n",
       "    </tr>\n",
       "    <tr>\n",
       "      <th>258227</th>\n",
       "      <td>29697724</td>\n",
       "      <td>['javascript', 'node.js', 'mocha', 'yeoman']</td>\n",
       "      <td>How to setup yeoman test for subgenerator that...</td>\n",
       "      <td>&lt;p&gt;I have a subgenerator that uses the name fr...</td>\n",
       "      <td>0</td>\n",
       "      <td>290.0</td>\n",
       "    </tr>\n",
       "    <tr>\n",
       "      <th>258228</th>\n",
       "      <td>33064950</td>\n",
       "      <td>['javascript', 'angularjs', 'chai', 'karma-moc...</td>\n",
       "      <td>Angular test Type Error</td>\n",
       "      <td>&lt;p&gt;Have tried a test case in karma, Mocha chai...</td>\n",
       "      <td>0</td>\n",
       "      <td>259.0</td>\n",
       "    </tr>\n",
       "    <tr>\n",
       "      <th>258229</th>\n",
       "      <td>27386494</td>\n",
       "      <td>['javascript', 'jquery', 'jasmine', 'jasmine-j...</td>\n",
       "      <td>Jasmine: Stub ajax request with a variable URL</td>\n",
       "      <td>&lt;p&gt;Using Jasmine (with &lt;a href=\"https://github...</td>\n",
       "      <td>0</td>\n",
       "      <td>652.0</td>\n",
       "    </tr>\n",
       "    <tr>\n",
       "      <th>258230</th>\n",
       "      <td>37792387</td>\n",
       "      <td>['typescript', 'jasmine']</td>\n",
       "      <td>Jasmine `toThrowError` Typescript definition (...</td>\n",
       "      <td>&lt;p&gt;I've written some tests in Typescript using...</td>\n",
       "      <td>0</td>\n",
       "      <td>44.0</td>\n",
       "    </tr>\n",
       "    <tr>\n",
       "      <th>258231</th>\n",
       "      <td>28036364</td>\n",
       "      <td>['javascript', 'angularjs', 'unit-testing', 'k...</td>\n",
       "      <td>How to mock an event like 'keypress' or 'keydo...</td>\n",
       "      <td>&lt;p&gt;I've looked at previous articles but they s...</td>\n",
       "      <td>0</td>\n",
       "      <td>608.0</td>\n",
       "    </tr>\n",
       "    <tr>\n",
       "      <th>258232</th>\n",
       "      <td>40406149</td>\n",
       "      <td>['javascript', 'jquery', 'reactjs', 'mocha', '...</td>\n",
       "      <td>Testing React-Bootstrap-Multiselect with Mocha</td>\n",
       "      <td>&lt;p&gt;When I try to test the npm module &lt;code&gt;rea...</td>\n",
       "      <td>0</td>\n",
       "      <td>42.0</td>\n",
       "    </tr>\n",
       "    <tr>\n",
       "      <th>258233</th>\n",
       "      <td>3875396</td>\n",
       "      <td>['ruby-on-rails', 'testing', 'mocking', 'shoul...</td>\n",
       "      <td>How are both of these tests passing?</td>\n",
       "      <td>&lt;p&gt;I'm using Shoulda, Mocha, and Test::Unit fo...</td>\n",
       "      <td>0</td>\n",
       "      <td>71.0</td>\n",
       "    </tr>\n",
       "    <tr>\n",
       "      <th>258234</th>\n",
       "      <td>41063578</td>\n",
       "      <td>['angular2', 'testing', 'dependency-injection'...</td>\n",
       "      <td>Errors when attempting to useConfigureTestingM...</td>\n",
       "      <td>&lt;p&gt;I am having errors whenever I attempt to cr...</td>\n",
       "      <td>0</td>\n",
       "      <td>24.0</td>\n",
       "    </tr>\n",
       "    <tr>\n",
       "      <th>258235</th>\n",
       "      <td>40718220</td>\n",
       "      <td>['angularjs', 'karma-jasmine']</td>\n",
       "      <td>Angular Jasmine Unit test</td>\n",
       "      <td>&lt;p&gt;Basic Folder Structure and my app.spec.js f...</td>\n",
       "      <td>0</td>\n",
       "      <td>34.0</td>\n",
       "    </tr>\n",
       "    <tr>\n",
       "      <th>258236</th>\n",
       "      <td>38012262</td>\n",
       "      <td>['reactjs', 'mocha', 'redux']</td>\n",
       "      <td>Spy not called on action</td>\n",
       "      <td>&lt;p&gt;I'm trying to render a component into Mocha...</td>\n",
       "      <td>0</td>\n",
       "      <td>55.0</td>\n",
       "    </tr>\n",
       "  </tbody>\n",
       "</table>\n",
       "<p>258237 rows × 6 columns</p>\n",
       "</div>"
      ],
      "text/plain": [
       "        Post Link                                               Tags  \\\n",
       "0          111102                ['javascript', 'scope', 'closures']   \n",
       "1          503093               ['javascript', 'jquery', 'redirect']   \n",
       "2         1789945  ['javascript', 'string', 'substring', 'string-...   \n",
       "3         1335851   ['javascript', 'syntax', 'jslint', 'use-strict']   \n",
       "4          178325      ['javascript', 'jquery', 'dom', 'visibility']   \n",
       "5          336859     ['javascript', 'function', 'syntax', 'idioms']   \n",
       "6        14994391    ['javascript', 'jquery', 'angularjs', 'design']   \n",
       "7          359494  ['javascript', 'operators', 'equality', 'equal...   \n",
       "8         5767325                           ['javascript', 'arrays']   \n",
       "9          208105  ['javascript', 'javascript-objects', 'object-p...   \n",
       "10         122102                  ['javascript', 'object', 'clone']   \n",
       "11         950087        ['javascript', 'file', 'import', 'include']   \n",
       "12         901712               ['javascript', 'jquery', 'checkbox']   \n",
       "13         134845  ['javascript', 'html', 'performance', 'optimiz...   \n",
       "14         426258  ['javascript', 'jquery', 'checkbox', 'selected...   \n",
       "15        9329446  ['javascript', 'arrays', 'loops', 'foreach', '...   \n",
       "16       14220321   ['javascript', 'jquery', 'ajax', 'asynchronous']   \n",
       "17         901115   ['javascript', 'url', 'plugins', 'query-string']   \n",
       "18         221294  ['javascript', 'date', 'datetime', 'timestamp'...   \n",
       "19        2669690                     ['javascript', 'ajax', 'json']   \n",
       "20         237104                ['javascript', 'arrays', 'browser']   \n",
       "21         105034                     ['javascript', 'guid', 'uuid']   \n",
       "22        1986896  ['javascript', 'performance', 'function', 'dyn...   \n",
       "23          46155  ['javascript', 'regex', 'validation', 'email',...   \n",
       "24        1357118  ['javascript', 'jquery', 'javascript-events', ...   \n",
       "25        5062614  ['javascript', 'design', 'web-applications', '...   \n",
       "26        1026069   ['javascript', 'string', 'capitalize', 'letter']   \n",
       "27         166221  ['javascript', 'jquery', 'ajax', 'asynchronous...   \n",
       "28        1144783                          ['javascript', 'replace']   \n",
       "29         351409                 ['javascript', 'arrays', 'append']   \n",
       "...           ...                                                ...   \n",
       "258207   37194633  ['android', 'unit-testing', 'testing', 'karma-...   \n",
       "258208   31573724  ['javascript', 'angularjs', 'jasmine', 'karma-...   \n",
       "258209   32174522                     ['angularjs', 'karma-jasmine']   \n",
       "258210   29691744               ['node.js', 'asynchronous', 'mocha']   \n",
       "258211   16446284  ['javascript', 'testing', 'angularjs', 'mockin...   \n",
       "258212   32114446         ['javascript', 'jasmine', 'karma-jasmine']   \n",
       "258213   34423589        ['javascript', 'karma-runner', 'urlencode']   \n",
       "258214   37320095  ['jasmine', 'karma-jasmine', 'jasmine-node', '...   \n",
       "258215   32312575  ['performance', 'safari', 'teamcity', 'karma-r...   \n",
       "258216   29761293  ['angularjs', 'jasmine', 'karma-runner', 'yeom...   \n",
       "258217   39810587        ['unit-testing', 'angular2', 'karma-mocha']   \n",
       "258218   29270232  ['javascript', 'jasmine', 'jshint', 'use-strict']   \n",
       "258219   27418478             ['node.js', 'jasmine', 'jasmine-node']   \n",
       "258220   21494966  ['node.js', 'mongodb', 'express', 'mongoose', ...   \n",
       "258221   37957667                    ['angularjs', 'jasmine', 'tdd']   \n",
       "258222   27104260           ['unit-testing', 'mocha', 'synchronous']   \n",
       "258223   29129730                     ['angularjs', 'mocha', 'chai']   \n",
       "258224   40218606                ['node.js', 'filesystems', 'mocha']   \n",
       "258225   40045248                           ['angularjs', 'jasmine']   \n",
       "258226   40069710          ['angularjs', 'jasmine', 'karma-jasmine']   \n",
       "258227   29697724       ['javascript', 'node.js', 'mocha', 'yeoman']   \n",
       "258228   33064950  ['javascript', 'angularjs', 'chai', 'karma-moc...   \n",
       "258229   27386494  ['javascript', 'jquery', 'jasmine', 'jasmine-j...   \n",
       "258230   37792387                          ['typescript', 'jasmine']   \n",
       "258231   28036364  ['javascript', 'angularjs', 'unit-testing', 'k...   \n",
       "258232   40406149  ['javascript', 'jquery', 'reactjs', 'mocha', '...   \n",
       "258233    3875396  ['ruby-on-rails', 'testing', 'mocking', 'shoul...   \n",
       "258234   41063578  ['angular2', 'testing', 'dependency-injection'...   \n",
       "258235   40718220                     ['angularjs', 'karma-jasmine']   \n",
       "258236   38012262                      ['reactjs', 'mocha', 'redux']   \n",
       "\n",
       "                                                    Title  \\\n",
       "0                        How do JavaScript closures work?   \n",
       "1       How do I redirect to another page in JavaScrip...   \n",
       "2       How to check if one string contains another su...   \n",
       "3       What does \"use strict\" do in JavaScript, and w...   \n",
       "4       How do I check if an element is hidden in jQuery?   \n",
       "5       JavaScript function declaration syntax: var fn...   \n",
       "6       \"Thinking in AngularJS\" if I have a jQuery bac...   \n",
       "7       Which equals operator (== vs ===) should be us...   \n",
       "8       How to remove a particular element from an arr...   \n",
       "9       How to remove a property from a JavaScript obj...   \n",
       "10      What is the most efficient way to deep clone a...   \n",
       "11      How do I include a JavaScript file in another ...   \n",
       "12      How do I check if a checkbox is checked in jQu...   \n",
       "13      Which \"href\" value to use for JavaScript links...   \n",
       "14          Setting \"checked\" for a checkbox with jQuery?   \n",
       "15                  For-each over an array in JavaScript?   \n",
       "16      How do I return the response from an asynchron...   \n",
       "17       How can I get query string values in JavaScript?   \n",
       "18              How do you get a timestamp in JavaScript?   \n",
       "19      Why does Google prepend while(1); to their JSO...   \n",
       "20      How do I check if an array includes an object ...   \n",
       "21                      Create GUID / UUID in JavaScript?   \n",
       "22         What is the difference between call and apply?   \n",
       "23                  Validate email address in JavaScript?   \n",
       "24                event.preventDefault() vs. return false   \n",
       "25                     How to decide when to use Node.js?   \n",
       "26      How do I make the first letter of a string upp...   \n",
       "27                 How can I upload files asynchronously?   \n",
       "28      How to replace all occurrences of a string in ...   \n",
       "29                   How to append something to an array?   \n",
       "...                                                   ...   \n",
       "258207  tns test android fails for the first time, the...   \n",
       "258208  How to test function within Angular click-handler   \n",
       "258209                 How to create filter for each tab?   \n",
       "258210                   Mocha asyn.waterflow not working   \n",
       "258211            Karma AngularJs Cancel/mock Timeout E2E   \n",
       "258212             jasmine test javascript inner function   \n",
       "258213  url-decoding a complex string gives \"URI malfo...   \n",
       "258214                No more request expected in jasmine   \n",
       "258215             Running karma on Safari painfully slow   \n",
       "258216  Nested Unit test case in a loop is always succ...   \n",
       "258217                       Angular2 unit test component   \n",
       "258218  Do I need to use the function form of 'use str...   \n",
       "258219                  Jasmine-node not working properly   \n",
       "258220        Mongoose error being returned as undefined?   \n",
       "258221  jasmine can't access angularjs 1.5 controller ...   \n",
       "258222  How to execute mocah unit test cases synchrono...   \n",
       "258223  mocha chai test cases are not working to resol...   \n",
       "258224                     nodejs watch mocha before/each   \n",
       "258225           angular testing promise within a promise   \n",
       "258226  Angular / Jasmine Testing - How to Stub Both a...   \n",
       "258227  How to setup yeoman test for subgenerator that...   \n",
       "258228                            Angular test Type Error   \n",
       "258229     Jasmine: Stub ajax request with a variable URL   \n",
       "258230  Jasmine `toThrowError` Typescript definition (...   \n",
       "258231  How to mock an event like 'keypress' or 'keydo...   \n",
       "258232     Testing React-Bootstrap-Multiselect with Mocha   \n",
       "258233               How are both of these tests passing?   \n",
       "258234  Errors when attempting to useConfigureTestingM...   \n",
       "258235                          Angular Jasmine Unit test   \n",
       "258236                           Spy not called on action   \n",
       "\n",
       "                                                     Body  Score  ViewCount  \n",
       "0       <p>How would you explain JavaScript closures t...   7087   960479.0  \n",
       "1       <p>How can I redirect the user from one page t...   6075  3529104.0  \n",
       "2       <p>Usually, I would expect a <code>String.cont...   5685  3558952.0  \n",
       "3       <p>Recently, I ran some of my JavaScript code ...   5334   739520.0  \n",
       "4       <p>It is possible to toggle the visibility of ...   5317  1706552.0  \n",
       "5       <p>I've recently started maintaining someone e...   4768   714696.0  \n",
       "6       <p>Suppose I'm familiar with developing client...   4535   706186.0  \n",
       "7       <p>I'm using <a href=\"http://en.wikipedia.org/...   4353   989836.0  \n",
       "8       <p>I have an array of integers, which I'm usin...   3886  2906474.0  \n",
       "9       <p>Say I create an object as follows: </p>\\n\\n...   3554  1118601.0  \n",
       "10      <p>What is the most efficient way to clone a J...   3466  1179322.0  \n",
       "11      <p>Is there something in JavaScript similar to...   3192  1805880.0  \n",
       "12      <p>I need to check the <code>checked</code> pr...   3113  2849662.0  \n",
       "13      <p>The following are two methods of building a...   3093  1841497.0  \n",
       "14      <p>I'd like to do something like this to tick ...   2913  2233755.0  \n",
       "15      <p>How can I loop through all the objects in a...   2848  2594827.0  \n",
       "16      <p>I have a function <code>foo</code> which ma...   2714   740025.0  \n",
       "17      <p>Is there a plugin-less way of retrieving <a...   2706  2392845.0  \n",
       "18      <p>How can I get a timestamp in JavaScript?</p...   2666  1607221.0  \n",
       "19      <p>Why does Google prepend <code>while(1);</co...   2479   236097.0  \n",
       "20      <p>What is the most concise and efficient way ...   2453  1653561.0  \n",
       "21      <p>I'm trying to create globally-unique identi...   2427   847290.0  \n",
       "22      <p>What is the difference between using call a...   2283   517080.0  \n",
       "23      <p>How can an email address be validated in Ja...   2266  1494874.0  \n",
       "24      <p>When I want to prevent other event handlers...   2210   610782.0  \n",
       "25      <p>I am new to this kind of stuff, but lately ...   2203   338859.0  \n",
       "26      <p>How do I make the first letter of a string ...   2189   974858.0  \n",
       "27      <p>I would like to upload a file asynchronousl...   2162  1025521.0  \n",
       "28      <p>I have this string:</p>\\n\\n<pre><code>\"Test...   2124  1566262.0  \n",
       "29      <p>How do I append to an array in JavaScript?<...   2113  1457273.0  \n",
       "...                                                   ...    ...        ...  \n",
       "258207  <p><code>tns test android</code> fails with </...      0       41.0  \n",
       "258208  <p>I'm currently unit-testing my Angular contr...      0       53.0  \n",
       "258209  <p>I am trying to define a filter on a tabcont...      0       36.0  \n",
       "258210  <p>I am using mocha and chai for testing nodej...      0       67.0  \n",
       "258211  <p>In angular I have a service object which an...      0      386.0  \n",
       "258212  <p>Here is my javascript code </p>\\n\\n<pre><co...      0      309.0  \n",
       "258213  <p>How to decode this string:</p>\\n\\n<pre><cod...      0       67.0  \n",
       "258214  <p>Could anyone please tell me what I'm doing ...      0       51.0  \n",
       "258215  <p>We use teamcity to run our client side unit...      0       80.0  \n",
       "258216  <p>I've refactored a test case from repeating ...      0      535.0  \n",
       "258217  <p>I'm learning new features and changes in An...      0       94.0  \n",
       "258218  <p>I'm building unit tests in jasmine based on...      0      578.0  \n",
       "258219  <p>I am new to automated testing using jasmine...      0      270.0  \n",
       "258220  <p>I am trying to test my db connection with j...      0      310.0  \n",
       "258221  <p>I'm trying to access the controller's prope...      0       53.0  \n",
       "258222  <p>I want to execute mocha unit test cases as ...      0      179.0  \n",
       "258223  <p>I need to test url path which i am redirect...      0      194.0  \n",
       "258224  <p>I've started to write my own wrapper around...      0       23.0  \n",
       "258225  <p>I have code that works.  But I have no idea...      0       17.0  \n",
       "258226  <p>In Jasmine, I can mock a constructor functi...      0       17.0  \n",
       "258227  <p>I have a subgenerator that uses the name fr...      0      290.0  \n",
       "258228  <p>Have tried a test case in karma, Mocha chai...      0      259.0  \n",
       "258229  <p>Using Jasmine (with <a href=\"https://github...      0      652.0  \n",
       "258230  <p>I've written some tests in Typescript using...      0       44.0  \n",
       "258231  <p>I've looked at previous articles but they s...      0      608.0  \n",
       "258232  <p>When I try to test the npm module <code>rea...      0       42.0  \n",
       "258233  <p>I'm using Shoulda, Mocha, and Test::Unit fo...      0       71.0  \n",
       "258234  <p>I am having errors whenever I attempt to cr...      0       24.0  \n",
       "258235  <p>Basic Folder Structure and my app.spec.js f...      0       34.0  \n",
       "258236  <p>I'm trying to render a component into Mocha...      0       55.0  \n",
       "\n",
       "[258237 rows x 6 columns]"
      ]
     },
     "execution_count": 42,
     "metadata": {},
     "output_type": "execute_result"
    }
   ],
   "source": [
    "full_ques_set"
   ]
  },
  {
   "cell_type": "code",
   "execution_count": 43,
   "metadata": {
    "collapsed": true
   },
   "outputs": [],
   "source": [
    "# Predicting Full Question Set using SVM learnt model\n",
    "\n",
    "# Preparing data\n",
    "full_ques_set_title= np.array(full_ques_set['Title'].apply(lambda x: str(x)))\n",
    "\n",
    "# Tlidf Transformation of test data\n",
    "full_ques_set_features = count_vect.transform(full_ques_set_title)\n",
    "full_ques_set_tfidf = tf_transformer.transform(full_ques_set_features)\n",
    "\n",
    "full_ques_set_predict = clf_svc.predict(full_ques_set_tfidf)"
   ]
  },
  {
   "cell_type": "code",
   "execution_count": 44,
   "metadata": {
    "collapsed": false
   },
   "outputs": [
    {
     "data": {
      "text/plain": [
       "258237"
      ]
     },
     "execution_count": 44,
     "metadata": {},
     "output_type": "execute_result"
    }
   ],
   "source": [
    "len(full_ques_set_predict)"
   ]
  },
  {
   "cell_type": "code",
   "execution_count": 45,
   "metadata": {
    "collapsed": true
   },
   "outputs": [],
   "source": [
    "# Introducing 'Predicted Category' column in the question dataset\n",
    "def g(input):\n",
    "    return 'f{x}'.format(x=input)\n",
    "full_ques_set['Predicted Category'] = pd.Series(full_ques_set_predict).apply(g)"
   ]
  },
  {
   "cell_type": "code",
   "execution_count": 51,
   "metadata": {
    "collapsed": true
   },
   "outputs": [
    {
     "name": "stdout",
     "output_type": "stream",
     "text": [
      "Total rows of Category 'f1': 11188\n",
      "Total rows of Category 'f2': 21164\n",
      "Total rows of Category 'f3': 63506\n",
      "Total rows of Category 'f4': 18099\n",
      "Total rows of Category 'f5': 27292\n",
      "Total rows of Category 'f6': 110664\n",
      "Total rows of Category 'f7': 6324\n"
     ]
    }
   ],
   "source": [
    "full_ques_set=full_ques_set[['Post Link', 'Predicted Category', 'Tags', 'Title', 'Body', 'Score', 'ViewCount']]\n",
    "def find_occurance2(df):\n",
    "    for i in range(1,8):\n",
    "        category= 'f'+str(i)\n",
    "        row,col= df[df['Predicted Category'].apply(lambda x: x == category)].shape\n",
    "        print \"Total rows of Category 'f{i}': {row}\".format(i=i,row=row)\n",
    "\n",
    "# ======preserving==========\n",
    "full_ques_set.to_csv('../data/processed/predicted_by_svm_full_ques_set.csv', index=False)\n",
    "\n",
    "# full_ques_set.shape\n",
    "# #         (258237, 7)\n",
    "\n",
    "find_occurance2(full_ques_set)\n",
    "# #         Total rows of Category 'f1': 10854\n",
    "# #         Total rows of Category 'f2': 21017\n",
    "# #         Total rows of Category 'f3': 63170\n",
    "# #         Total rows of Category 'f4': 17864\n",
    "# #         Total rows of Category 'f5': 27442\n",
    "# #         Total rows of Category 'f6': 111622\n",
    "# #         Total rows of Category 'f7': 6268"
   ]
  },
  {
   "cell_type": "code",
   "execution_count": null,
   "metadata": {
    "collapsed": true
   },
   "outputs": [],
   "source": []
  },
  {
   "cell_type": "code",
   "execution_count": null,
   "metadata": {
    "collapsed": true
   },
   "outputs": [],
   "source": []
  },
  {
   "cell_type": "code",
   "execution_count": null,
   "metadata": {
    "collapsed": true
   },
   "outputs": [],
   "source": []
  },
  {
   "cell_type": "code",
   "execution_count": null,
   "metadata": {
    "collapsed": true
   },
   "outputs": [],
   "source": []
  }
 ],
 "metadata": {
  "kernelspec": {
   "display_name": "Python 2",
   "language": "python",
   "name": "python2"
  },
  "language_info": {
   "codemirror_mode": {
    "name": "ipython",
    "version": 2
   },
   "file_extension": ".py",
   "mimetype": "text/x-python",
   "name": "python",
   "nbconvert_exporter": "python",
   "pygments_lexer": "ipython2",
   "version": "2.7.13"
  }
 },
 "nbformat": 4,
 "nbformat_minor": 2
}
