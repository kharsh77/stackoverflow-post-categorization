{
 "cells": [
  {
   "cell_type": "code",
   "execution_count": 1,
   "metadata": {
    "collapsed": true
   },
   "outputs": [],
   "source": [
    "import numpy as np\n",
    "import pandas as pd"
   ]
  },
  {
   "cell_type": "code",
   "execution_count": 3,
   "metadata": {
    "collapsed": false
   },
   "outputs": [],
   "source": [
    "ques_set = pd.read_csv('../data/processed/ques_with_one_tag_labelled.csv')"
   ]
  },
  {
   "cell_type": "code",
   "execution_count": 4,
   "metadata": {
    "collapsed": false
   },
   "outputs": [
    {
     "data": {
      "text/plain": [
       "(22609, 7)"
      ]
     },
     "execution_count": 4,
     "metadata": {},
     "output_type": "execute_result"
    }
   ],
   "source": [
    "ques_set.shape"
   ]
  },
  {
   "cell_type": "code",
   "execution_count": 18,
   "metadata": {
    "collapsed": true
   },
   "outputs": [
    {
     "name": "stdout",
     "output_type": "stream",
     "text": [
      "(18087, 7)\n",
      "(4522, 7)\n",
      "Total rows of Category 'f1': 440\n",
      "Total rows of Category 'f2': 1117\n",
      "Total rows of Category 'f3': 4599\n",
      "Total rows of Category 'f4': 753\n",
      "Total rows of Category 'f5': 1506\n",
      "Total rows of Category 'f6': 9564\n",
      "Total rows of Category 'f7': 108\n",
      "+=========+\n",
      "Total rows of Category 'f1': 111\n",
      "Total rows of Category 'f2': 279\n",
      "Total rows of Category 'f3': 1120\n",
      "Total rows of Category 'f4': 191\n",
      "Total rows of Category 'f5': 361\n",
      "Total rows of Category 'f6': 2438\n",
      "Total rows of Category 'f7': 22\n"
     ]
    }
   ],
   "source": [
    "# Read-processed-tags-data-(in-two-formats)\n",
    "\n",
    "# Gets a random 80% of the entire set\n",
    "X_train = ques_set.sample(frac=0.8, random_state=10)\n",
    "\n",
    "# Gets the left out portion of the dataset\n",
    "X_test = ques_set.loc[~ques_set.index.isin(X_train.index)]\n",
    "\n",
    "# alternatively\n",
    "# from sklearn.model_selection import train_test_split\n",
    "\n",
    "def find_occurance(df):\n",
    "    for i in range(1,8):\n",
    "        category= 'f'+str(i)\n",
    "        row,col= df[df['Category'].apply(lambda x: x == category)].shape\n",
    "        print \"Total rows of Category 'f{i}': {row}\".format(i=i,row=row)\n",
    "print X_train.shape\n",
    "print X_test.shape\n",
    "find_occurance(X_train)\n",
    "print \"+=========+\"\n",
    "find_occurance(X_test)"
   ]
  },
  {
   "cell_type": "markdown",
   "metadata": {},
   "source": [
    "## Creating features (Title) and labels (Category)"
   ]
  },
  {
   "cell_type": "code",
   "execution_count": 19,
   "metadata": {
    "collapsed": true
   },
   "outputs": [],
   "source": [
    "train_features = np.array(X_train['Title']) # (X_train['Body'])\n",
    "train_labels = np.array(X_train['Category'].apply(lambda x: int(x[1])))\n",
    "\n",
    "from sklearn.feature_extraction.text import CountVectorizer\n",
    "count_vect = CountVectorizer(stop_words=\"english\")\n",
    "X_train_counts = count_vect.fit_transform(train_features.astype('U'))"
   ]
  },
  {
   "cell_type": "code",
   "execution_count": 40,
   "metadata": {
    "collapsed": false
   },
   "outputs": [
    {
     "name": "stdout",
     "output_type": "stream",
     "text": [
      "6651\n",
      "2712\n",
      "6651\n"
     ]
    }
   ],
   "source": [
    "print len(count_vect.get_feature_names())\n",
    "# data= count_vect.vocabulary_\n",
    "# pd.Data Frame.from_dict([data])\n",
    "print count_vect.vocabulary_.get(u'html')\n",
    "print len(count_vect.vocabulary_)"
   ]
  },
  {
   "cell_type": "code",
   "execution_count": 41,
   "metadata": {
    "collapsed": false
   },
   "outputs": [
    {
     "data": {
      "text/plain": [
       "{'norm': u'l2', 'smooth_idf': True, 'sublinear_tf': False, 'use_idf': False}"
      ]
     },
     "execution_count": 41,
     "metadata": {},
     "output_type": "execute_result"
    }
   ],
   "source": [
    "# Tfidf transformation on countervectorized training data\n",
    "from sklearn.feature_extraction.text import TfidfTransformer\n",
    "tf_transformer = TfidfTransformer(use_idf=False).fit(X_train_counts)\n",
    "X_train_tf = tf_transformer.transform(X_train_counts)\n",
    "tf_transformer.get_params(deep=True)"
   ]
  },
  {
   "cell_type": "markdown",
   "metadata": {},
   "source": [
    "## Training a classifier (Naive Bayes)"
   ]
  },
  {
   "cell_type": "code",
   "execution_count": 43,
   "metadata": {
    "collapsed": true
   },
   "outputs": [],
   "source": [
    "# Training the classifier (Naive Bayes)\n",
    "\n",
    "from sklearn.naive_bayes import MultinomialNB\n",
    "clf_naive = MultinomialNB().fit(X_train_tf, train_labels)"
   ]
  },
  {
   "cell_type": "code",
   "execution_count": 46,
   "metadata": {
    "collapsed": false
   },
   "outputs": [
    {
     "data": {
      "text/plain": [
       "0.86200796107916855"
      ]
     },
     "execution_count": 46,
     "metadata": {},
     "output_type": "execute_result"
    }
   ],
   "source": [
    "# Prediction on test data\n",
    "test_features= np.array(X_test['Title'].apply(lambda x: str(x)))\n",
    "test_labels= np.array(X_test['Category'].apply(lambda x: int(x[1])))\n",
    "\n",
    "# Tlidf Transformation of test data\n",
    "X_new_counts = count_vect.transform(test_features)\n",
    "X_new_tfidf = tf_transformer.transform(X_new_counts)\n",
    "\n",
    "predicted_naive = clf_naive.predict(X_new_tfidf)\n",
    "np.mean(predicted_naive == test_labels)"
   ]
  },
  {
   "cell_type": "markdown",
   "metadata": {},
   "source": [
    "## Training classifier (SVM)"
   ]
  },
  {
   "cell_type": "code",
   "execution_count": 47,
   "metadata": {
    "collapsed": false
   },
   "outputs": [
    {
     "data": {
      "text/plain": [
       "0.92525431225121624"
      ]
     },
     "execution_count": 47,
     "metadata": {},
     "output_type": "execute_result"
    }
   ],
   "source": [
    "from sklearn.svm import SVC\n",
    "clf_svc = SVC(kernel=\"rbf\", C=10000.0)  #SVC(kernel=\"linear\")\n",
    "clf_svc.fit(X_train_tf, train_labels)\n",
    "predicted_svc= clf_svc.predict(X_new_tfidf)\n",
    "np.mean(predicted_svc == test_labels)\n",
    "# C= 1000, rbf, accuracy=0.90070765148164533\n",
    "# C=100000000.0, rbf, accuracy= 0.91110128261831047\n",
    "# C=10000.0, rbf, accuracy= 0.93078283945157014\n",
    "# C=100000.0, rbf, accuracy = 0.92105263157894735\n",
    "# predicted_svc"
   ]
  },
  {
   "cell_type": "code",
   "execution_count": null,
   "metadata": {
    "collapsed": true
   },
   "outputs": [],
   "source": []
  }
 ],
 "metadata": {
  "kernelspec": {
   "display_name": "Python 2",
   "language": "python",
   "name": "python2"
  },
  "language_info": {
   "codemirror_mode": {
    "name": "ipython",
    "version": 2
   },
   "file_extension": ".py",
   "mimetype": "text/x-python",
   "name": "python",
   "nbconvert_exporter": "python",
   "pygments_lexer": "ipython2",
   "version": "2.7.13"
  }
 },
 "nbformat": 4,
 "nbformat_minor": 2
}
